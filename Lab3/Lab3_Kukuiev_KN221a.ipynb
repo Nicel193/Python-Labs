{
 "cells": [
  {
   "cell_type": "code",
   "execution_count": 20,
   "id": "1b7e3f53-1780-48de-964c-a4051c3bbb81",
   "metadata": {},
   "outputs": [
    {
     "name": "stdout",
     "output_type": "stream",
     "text": [
      "Requirement already satisfied: pandas in c:\\users\\rkuck\\appdata\\local\\programs\\python\\python39\\lib\\site-packages (2.1.3)"
     ]
    },
    {
     "name": "stderr",
     "output_type": "stream",
     "text": [
      "\n",
      "[notice] A new release of pip is available: 23.1.2 -> 23.3.1\n",
      "[notice] To update, run: python.exe -m pip install --upgrade pip\n"
     ]
    },
    {
     "name": "stdout",
     "output_type": "stream",
     "text": [
      "\n",
      "Requirement already satisfied: xlrd in c:\\users\\rkuck\\appdata\\local\\programs\\python\\python39\\lib\\site-packages (2.0.1)\n",
      "Requirement already satisfied: openpyxl in c:\\users\\rkuck\\appdata\\local\\programs\\python\\python39\\lib\\site-packages (3.1.2)\n",
      "Collecting seaborn\n",
      "  Downloading seaborn-0.13.0-py3-none-any.whl (294 kB)\n",
      "                                              0.0/294.6 kB ? eta -:--:--\n",
      "     ------------                            92.2/294.6 kB 2.6 MB/s eta 0:00:01\n",
      "     -----------------------------          225.3/294.6 kB 2.7 MB/s eta 0:00:01\n",
      "     -------------------------------------- 294.6/294.6 kB 2.3 MB/s eta 0:00:00\n",
      "Requirement already satisfied: numpy<2,>=1.22.4 in c:\\users\\rkuck\\appdata\\local\\programs\\python\\python39\\lib\\site-packages (from pandas) (1.24.4)\n",
      "Requirement already satisfied: python-dateutil>=2.8.2 in c:\\users\\rkuck\\appdata\\local\\programs\\python\\python39\\lib\\site-packages (from pandas) (2.8.2)\n",
      "Requirement already satisfied: pytz>=2020.1 in c:\\users\\rkuck\\appdata\\local\\programs\\python\\python39\\lib\\site-packages (from pandas) (2023.3)\n",
      "Requirement already satisfied: tzdata>=2022.1 in c:\\users\\rkuck\\appdata\\local\\programs\\python\\python39\\lib\\site-packages (from pandas) (2023.3)\n",
      "Requirement already satisfied: et-xmlfile in c:\\users\\rkuck\\appdata\\local\\programs\\python\\python39\\lib\\site-packages (from openpyxl) (1.1.0)\n",
      "Requirement already satisfied: matplotlib!=3.6.1,>=3.3 in c:\\users\\rkuck\\appdata\\local\\programs\\python\\python39\\lib\\site-packages (from seaborn) (3.8.0)\n",
      "Requirement already satisfied: contourpy>=1.0.1 in c:\\users\\rkuck\\appdata\\local\\programs\\python\\python39\\lib\\site-packages (from matplotlib!=3.6.1,>=3.3->seaborn) (1.1.1)\n",
      "Requirement already satisfied: cycler>=0.10 in c:\\users\\rkuck\\appdata\\local\\programs\\python\\python39\\lib\\site-packages (from matplotlib!=3.6.1,>=3.3->seaborn) (0.12.0)\n",
      "Requirement already satisfied: fonttools>=4.22.0 in c:\\users\\rkuck\\appdata\\local\\programs\\python\\python39\\lib\\site-packages (from matplotlib!=3.6.1,>=3.3->seaborn) (4.43.0)\n",
      "Requirement already satisfied: kiwisolver>=1.0.1 in c:\\users\\rkuck\\appdata\\local\\programs\\python\\python39\\lib\\site-packages (from matplotlib!=3.6.1,>=3.3->seaborn) (1.4.5)\n",
      "Requirement already satisfied: packaging>=20.0 in c:\\users\\rkuck\\appdata\\local\\programs\\python\\python39\\lib\\site-packages (from matplotlib!=3.6.1,>=3.3->seaborn) (23.1)\n",
      "Requirement already satisfied: pillow>=6.2.0 in c:\\users\\rkuck\\appdata\\local\\programs\\python\\python39\\lib\\site-packages (from matplotlib!=3.6.1,>=3.3->seaborn) (9.4.0)\n",
      "Requirement already satisfied: pyparsing>=2.3.1 in c:\\users\\rkuck\\appdata\\local\\programs\\python\\python39\\lib\\site-packages (from matplotlib!=3.6.1,>=3.3->seaborn) (3.1.1)\n",
      "Requirement already satisfied: importlib-resources>=3.2.0 in c:\\users\\rkuck\\appdata\\local\\programs\\python\\python39\\lib\\site-packages (from matplotlib!=3.6.1,>=3.3->seaborn) (6.1.0)\n",
      "Requirement already satisfied: six>=1.5 in c:\\users\\rkuck\\appdata\\local\\programs\\python\\python39\\lib\\site-packages (from python-dateutil>=2.8.2->pandas) (1.16.0)\n",
      "Requirement already satisfied: zipp>=3.1.0 in c:\\users\\rkuck\\appdata\\local\\programs\\python\\python39\\lib\\site-packages (from importlib-resources>=3.2.0->matplotlib!=3.6.1,>=3.3->seaborn) (3.16.2)\n",
      "Installing collected packages: seaborn\n",
      "Successfully installed seaborn-0.13.0\n"
     ]
    }
   ],
   "source": [
    "!pip install pandas xlrd openpyxl seaborn"
   ]
  },
  {
   "cell_type": "code",
   "execution_count": 2,
   "id": "952c2ddb-daa8-4168-86e0-1739ece60bbe",
   "metadata": {},
   "outputs": [],
   "source": [
    "import pandas as pd\n",
    "import numpy as np"
   ]
  },
  {
   "cell_type": "code",
   "execution_count": 4,
   "id": "0ab4f527-e139-4a15-8203-b9d7006caf7c",
   "metadata": {},
   "outputs": [
    {
     "data": {
      "text/html": [
       "<div>\n",
       "<style scoped>\n",
       "    .dataframe tbody tr th:only-of-type {\n",
       "        vertical-align: middle;\n",
       "    }\n",
       "\n",
       "    .dataframe tbody tr th {\n",
       "        vertical-align: top;\n",
       "    }\n",
       "\n",
       "    .dataframe thead th {\n",
       "        text-align: right;\n",
       "    }\n",
       "</style>\n",
       "<table border=\"1\" class=\"dataframe\">\n",
       "  <thead>\n",
       "    <tr style=\"text-align: right;\">\n",
       "      <th></th>\n",
       "      <th>Country</th>\n",
       "      <th>Energy Supply</th>\n",
       "      <th>Energy Supply per Capita</th>\n",
       "      <th>% Renewable</th>\n",
       "    </tr>\n",
       "  </thead>\n",
       "  <tbody>\n",
       "    <tr>\n",
       "      <th>3</th>\n",
       "      <td>American Samoa</td>\n",
       "      <td>NaN</td>\n",
       "      <td>NaN</td>\n",
       "      <td>0.641026</td>\n",
       "    </tr>\n",
       "    <tr>\n",
       "      <th>24</th>\n",
       "      <td>Bolivia</td>\n",
       "      <td>3.360000e+08</td>\n",
       "      <td>32.0</td>\n",
       "      <td>31.477120</td>\n",
       "    </tr>\n",
       "    <tr>\n",
       "      <th>197</th>\n",
       "      <td>Switzerland</td>\n",
       "      <td>1.113000e+09</td>\n",
       "      <td>136.0</td>\n",
       "      <td>57.745480</td>\n",
       "    </tr>\n",
       "  </tbody>\n",
       "</table>\n",
       "</div>"
      ],
      "text/plain": [
       "            Country  Energy Supply  Energy Supply per Capita  % Renewable\n",
       "3    American Samoa            NaN                       NaN     0.641026\n",
       "24          Bolivia   3.360000e+08                      32.0    31.477120\n",
       "197     Switzerland   1.113000e+09                     136.0    57.745480"
      ]
     },
     "execution_count": 4,
     "metadata": {},
     "output_type": "execute_result"
    }
   ],
   "source": [
    "# Вправа 1\n",
    "excel_file = 'En_In.xls'\n",
    "skip_rows = 17\n",
    "skip_footer = 38\n",
    "columns_to_use = [1, 3, 4, 5]\n",
    "column_names = ['Country', 'Energy Supply', 'Energy Supply per Capita', '% Renewable']\n",
    "\n",
    "Energy = pd.read_excel(excel_file, skiprows=skip_rows, skipfooter=skip_footer, usecols=columns_to_use, names=column_names)\n",
    "\n",
    "# Вправа 2\n",
    "Energy['Energy Supply'].replace(\"...\", np.NaN, inplace=True)\n",
    "Energy['Energy Supply per Capita'].replace(\"...\", np.NaN, inplace=True)\n",
    "Energy['Energy Supply'] = Energy['Energy Supply'] * 1000000\n",
    "\n",
    "# Вправа 3\n",
    "country_mapping = {\n",
    "    \"Republic of Korea\": \"South Korea\",\n",
    "    \"United States of America\": \"United States\",\n",
    "    \"United Kingdom of Great Britain and Northern Ireland\": \"United Kingdom\",\n",
    "    \"China, Hong Kong Special Administrative Region\": \"Hong Kong\"\n",
    "}\n",
    "\n",
    "Energy['Country'].replace(country_mapping, inplace=True)\n",
    "\n",
    "# Вправа 4\n",
    "Energy['Country'].replace(to_replace = r'\\d+', value = '', regex = True, inplace = True)\n",
    "Energy['Country'] = Energy['Country'].replace(to_replace = r'\\(.*\\)', value = '', regex = True).str.strip()\n",
    "Energy.loc[Energy['Country'].isin(['American Samoa', 'Switzerland', 'Bolivia'])]"
   ]
  },
  {
   "cell_type": "code",
   "execution_count": 5,
   "id": "a9866a75-da81-403f-b5c4-f2a9970ad150",
   "metadata": {},
   "outputs": [
    {
     "data": {
      "text/html": [
       "<div>\n",
       "<style scoped>\n",
       "    .dataframe tbody tr th:only-of-type {\n",
       "        vertical-align: middle;\n",
       "    }\n",
       "\n",
       "    .dataframe tbody tr th {\n",
       "        vertical-align: top;\n",
       "    }\n",
       "\n",
       "    .dataframe thead th {\n",
       "        text-align: right;\n",
       "    }\n",
       "</style>\n",
       "<table border=\"1\" class=\"dataframe\">\n",
       "  <thead>\n",
       "    <tr style=\"text-align: right;\">\n",
       "      <th></th>\n",
       "      <th>Country Name</th>\n",
       "      <th>Country Code</th>\n",
       "      <th>Indicator Name</th>\n",
       "      <th>Indicator Code</th>\n",
       "      <th>1960</th>\n",
       "      <th>1961</th>\n",
       "      <th>1962</th>\n",
       "      <th>1963</th>\n",
       "      <th>1964</th>\n",
       "      <th>1965</th>\n",
       "      <th>...</th>\n",
       "      <th>2006</th>\n",
       "      <th>2007</th>\n",
       "      <th>2008</th>\n",
       "      <th>2009</th>\n",
       "      <th>2010</th>\n",
       "      <th>2011</th>\n",
       "      <th>2012</th>\n",
       "      <th>2013</th>\n",
       "      <th>2014</th>\n",
       "      <th>2015</th>\n",
       "    </tr>\n",
       "  </thead>\n",
       "  <tbody>\n",
       "    <tr>\n",
       "      <th>0</th>\n",
       "      <td>Aruba</td>\n",
       "      <td>ABW</td>\n",
       "      <td>GDP at market prices (constant 2010 US$)</td>\n",
       "      <td>NY.GDP.MKTP.KD</td>\n",
       "      <td>NaN</td>\n",
       "      <td>NaN</td>\n",
       "      <td>NaN</td>\n",
       "      <td>NaN</td>\n",
       "      <td>NaN</td>\n",
       "      <td>NaN</td>\n",
       "      <td>...</td>\n",
       "      <td>NaN</td>\n",
       "      <td>NaN</td>\n",
       "      <td>NaN</td>\n",
       "      <td>NaN</td>\n",
       "      <td>2.467704e+09</td>\n",
       "      <td>NaN</td>\n",
       "      <td>NaN</td>\n",
       "      <td>NaN</td>\n",
       "      <td>NaN</td>\n",
       "      <td>NaN</td>\n",
       "    </tr>\n",
       "  </tbody>\n",
       "</table>\n",
       "<p>1 rows × 60 columns</p>\n",
       "</div>"
      ],
      "text/plain": [
       "  Country Name Country Code                            Indicator Name  \\\n",
       "0        Aruba          ABW  GDP at market prices (constant 2010 US$)   \n",
       "\n",
       "   Indicator Code  1960  1961  1962  1963  1964  1965  ...  2006  2007  2008  \\\n",
       "0  NY.GDP.MKTP.KD   NaN   NaN   NaN   NaN   NaN   NaN  ...   NaN   NaN   NaN   \n",
       "\n",
       "   2009          2010  2011  2012  2013  2014  2015  \n",
       "0   NaN  2.467704e+09   NaN   NaN   NaN   NaN   NaN  \n",
       "\n",
       "[1 rows x 60 columns]"
      ]
     },
     "execution_count": 5,
     "metadata": {},
     "output_type": "execute_result"
    }
   ],
   "source": [
    "# Вправа 5\n",
    "GDP = pd.read_csv('gpd.csv', skiprows=4)\n",
    "\n",
    "gdp_mapping = {\n",
    "    \"Korea, Rep.\": \"South Korea\",\n",
    "    \"Iran, Islamic Rep.\": \"Iran\",\n",
    "    \"Hong Kong SAR, China\": \"Hong Kong\"\n",
    "}\n",
    "\n",
    "GDP['Country Name'].replace(gdp_mapping, inplace=True)\n",
    "GDP.head(1)"
   ]
  },
  {
   "cell_type": "code",
   "execution_count": 7,
   "id": "07f3202f-d18f-404c-b1b7-9ffcd8c1a886",
   "metadata": {},
   "outputs": [
    {
     "data": {
      "text/html": [
       "<div>\n",
       "<style scoped>\n",
       "    .dataframe tbody tr th:only-of-type {\n",
       "        vertical-align: middle;\n",
       "    }\n",
       "\n",
       "    .dataframe tbody tr th {\n",
       "        vertical-align: top;\n",
       "    }\n",
       "\n",
       "    .dataframe thead th {\n",
       "        text-align: right;\n",
       "    }\n",
       "</style>\n",
       "<table border=\"1\" class=\"dataframe\">\n",
       "  <thead>\n",
       "    <tr style=\"text-align: right;\">\n",
       "      <th></th>\n",
       "      <th>Rank</th>\n",
       "      <th>Documents</th>\n",
       "      <th>Citable documents</th>\n",
       "      <th>Citations</th>\n",
       "      <th>Self-citations</th>\n",
       "      <th>Citations per document</th>\n",
       "      <th>H index</th>\n",
       "      <th>Energy Supply</th>\n",
       "      <th>Energy Supply per Capita</th>\n",
       "      <th>% Renewable</th>\n",
       "      <th>2006</th>\n",
       "      <th>2007</th>\n",
       "      <th>2008</th>\n",
       "      <th>2009</th>\n",
       "      <th>2010</th>\n",
       "      <th>2011</th>\n",
       "      <th>2012</th>\n",
       "      <th>2013</th>\n",
       "      <th>2014</th>\n",
       "      <th>2015</th>\n",
       "    </tr>\n",
       "    <tr>\n",
       "      <th>Country</th>\n",
       "      <th></th>\n",
       "      <th></th>\n",
       "      <th></th>\n",
       "      <th></th>\n",
       "      <th></th>\n",
       "      <th></th>\n",
       "      <th></th>\n",
       "      <th></th>\n",
       "      <th></th>\n",
       "      <th></th>\n",
       "      <th></th>\n",
       "      <th></th>\n",
       "      <th></th>\n",
       "      <th></th>\n",
       "      <th></th>\n",
       "      <th></th>\n",
       "      <th></th>\n",
       "      <th></th>\n",
       "      <th></th>\n",
       "      <th></th>\n",
       "    </tr>\n",
       "  </thead>\n",
       "  <tbody>\n",
       "    <tr>\n",
       "      <th>China</th>\n",
       "      <td>1</td>\n",
       "      <td>127050</td>\n",
       "      <td>126767</td>\n",
       "      <td>597237</td>\n",
       "      <td>411683</td>\n",
       "      <td>4.70</td>\n",
       "      <td>138</td>\n",
       "      <td>1.271910e+11</td>\n",
       "      <td>93.0</td>\n",
       "      <td>19.75491</td>\n",
       "      <td>3.992331e+12</td>\n",
       "      <td>4.559041e+12</td>\n",
       "      <td>4.997775e+12</td>\n",
       "      <td>5.459247e+12</td>\n",
       "      <td>6.039659e+12</td>\n",
       "      <td>6.612490e+12</td>\n",
       "      <td>7.124978e+12</td>\n",
       "      <td>7.672448e+12</td>\n",
       "      <td>8.230121e+12</td>\n",
       "      <td>8.797999e+12</td>\n",
       "    </tr>\n",
       "    <tr>\n",
       "      <th>United States</th>\n",
       "      <td>2</td>\n",
       "      <td>96661</td>\n",
       "      <td>94747</td>\n",
       "      <td>792274</td>\n",
       "      <td>265436</td>\n",
       "      <td>8.20</td>\n",
       "      <td>230</td>\n",
       "      <td>9.083800e+10</td>\n",
       "      <td>286.0</td>\n",
       "      <td>11.57098</td>\n",
       "      <td>1.479230e+13</td>\n",
       "      <td>1.505540e+13</td>\n",
       "      <td>1.501149e+13</td>\n",
       "      <td>1.459484e+13</td>\n",
       "      <td>1.496437e+13</td>\n",
       "      <td>1.520402e+13</td>\n",
       "      <td>1.554216e+13</td>\n",
       "      <td>1.577367e+13</td>\n",
       "      <td>1.615662e+13</td>\n",
       "      <td>1.654857e+13</td>\n",
       "    </tr>\n",
       "    <tr>\n",
       "      <th>Japan</th>\n",
       "      <td>3</td>\n",
       "      <td>30504</td>\n",
       "      <td>30287</td>\n",
       "      <td>223024</td>\n",
       "      <td>61554</td>\n",
       "      <td>7.31</td>\n",
       "      <td>134</td>\n",
       "      <td>1.898400e+10</td>\n",
       "      <td>149.0</td>\n",
       "      <td>10.23282</td>\n",
       "      <td>5.496542e+12</td>\n",
       "      <td>5.617036e+12</td>\n",
       "      <td>5.558527e+12</td>\n",
       "      <td>5.251308e+12</td>\n",
       "      <td>5.498718e+12</td>\n",
       "      <td>5.473738e+12</td>\n",
       "      <td>5.569102e+12</td>\n",
       "      <td>5.644659e+12</td>\n",
       "      <td>5.642884e+12</td>\n",
       "      <td>5.669563e+12</td>\n",
       "    </tr>\n",
       "  </tbody>\n",
       "</table>\n",
       "</div>"
      ],
      "text/plain": [
       "               Rank  Documents  Citable documents  Citations  Self-citations  \\\n",
       "Country                                                                        \n",
       "China             1     127050             126767     597237          411683   \n",
       "United States     2      96661              94747     792274          265436   \n",
       "Japan             3      30504              30287     223024           61554   \n",
       "\n",
       "               Citations per document  H index  Energy Supply  \\\n",
       "Country                                                         \n",
       "China                            4.70      138   1.271910e+11   \n",
       "United States                    8.20      230   9.083800e+10   \n",
       "Japan                            7.31      134   1.898400e+10   \n",
       "\n",
       "               Energy Supply per Capita  % Renewable          2006  \\\n",
       "Country                                                              \n",
       "China                              93.0     19.75491  3.992331e+12   \n",
       "United States                     286.0     11.57098  1.479230e+13   \n",
       "Japan                             149.0     10.23282  5.496542e+12   \n",
       "\n",
       "                       2007          2008          2009          2010  \\\n",
       "Country                                                                 \n",
       "China          4.559041e+12  4.997775e+12  5.459247e+12  6.039659e+12   \n",
       "United States  1.505540e+13  1.501149e+13  1.459484e+13  1.496437e+13   \n",
       "Japan          5.617036e+12  5.558527e+12  5.251308e+12  5.498718e+12   \n",
       "\n",
       "                       2011          2012          2013          2014  \\\n",
       "Country                                                                 \n",
       "China          6.612490e+12  7.124978e+12  7.672448e+12  8.230121e+12   \n",
       "United States  1.520402e+13  1.554216e+13  1.577367e+13  1.615662e+13   \n",
       "Japan          5.473738e+12  5.569102e+12  5.644659e+12  5.642884e+12   \n",
       "\n",
       "                       2015  \n",
       "Country                      \n",
       "China          8.797999e+12  \n",
       "United States  1.654857e+13  \n",
       "Japan          5.669563e+12  "
      ]
     },
     "execution_count": 7,
     "metadata": {},
     "output_type": "execute_result"
    }
   ],
   "source": [
    "# Вправа 6\n",
    "scimago = pd.read_excel('scimagojr.xlsx')\n",
    "\n",
    "# Вправа 7\n",
    "merged = pd.merge(scimago, Energy, left_on='Country', right_on='Country')\n",
    "merged = pd.merge(merged, GDP, left_on='Country', right_on='Country Name')\n",
    "\n",
    "selected_columns = ['Country', 'Rank', 'Documents', 'Citable documents', 'Citations', 'Self-citations',\n",
    "                     'Citations per document', 'H index', 'Energy Supply', 'Energy Supply per Capita', '% Renewable',\n",
    "                     '2006', '2007', '2008', '2009', '2010', '2011', '2012', '2013', '2014', '2015']\n",
    "\n",
    "Result = merged[selected_columns].set_index('Country').head(15)\n",
    "\n",
    "Result.head(3)"
   ]
  },
  {
   "cell_type": "code",
   "execution_count": 12,
   "id": "e175ba89-27a1-404b-ab23-349e1f43ea5e",
   "metadata": {},
   "outputs": [
    {
     "data": {
      "text/plain": [
       "Country\n",
       "United States        15364344302990.000\n",
       "China                 6348608932836.100\n",
       "Japan                 5542207638235.176\n",
       "Germany               3493025339072.848\n",
       "France                2681724635761.589\n",
       "United Kingdom        2487906661418.417\n",
       "Brazil                2189794143774.905\n",
       "Italy                 2120175089933.776\n",
       "India                 1769297396603.860\n",
       "Canada                1660647466307.512\n",
       "Russian Federation    1565459478480.661\n",
       "Spain                 1418078278145.694\n",
       "Australia             1164042729991.427\n",
       "South Korea           1106714508244.852\n",
       "Iran                   444155754051.095\n",
       "dtype: float64"
      ]
     },
     "execution_count": 12,
     "metadata": {},
     "output_type": "execute_result"
    }
   ],
   "source": [
    "# Вправа 8\n",
    "def task_eight():\n",
    "    gdp_columns = ['2006', '2007', '2008', '2009', '2010', '2011', '2012', '2013', '2014', '2015']\n",
    "    gdp_data = Result[gdp_columns]\n",
    "    avgGDP = gdp_data.mean(axis=1)\n",
    "    avgGDP = avgGDP.sort_values(ascending=False)\n",
    "\n",
    "    return avgGDP\n",
    "\n",
    "task_eight()"
   ]
  },
  {
   "cell_type": "code",
   "execution_count": 38,
   "id": "f5f2b67c-2a49-417b-9989-d52ac55a875e",
   "metadata": {},
   "outputs": [
    {
     "data": {
      "text/plain": [
       "('France', 153345695364.24023)"
      ]
     },
     "execution_count": 38,
     "metadata": {},
     "output_type": "execute_result"
    }
   ],
   "source": [
    "# Вправа 9\n",
    "def task_nine():\n",
    "    gdp_columns = ['2006', '2007', '2008', '2009', '2010', '2011', '2012', '2013', '2014', '2015']\n",
    "    fifth_highest_gdp_country = task_eight().index[4]\n",
    "    gdp_values = Result.loc[fifth_highest_gdp_country, gdp_columns]\n",
    "    gdp_change = gdp_values['2015'] - gdp_values['2006']\n",
    "    return (fifth_highest_gdp_country, gdp_change)\n",
    "\n",
    "task_nine()"
   ]
  },
  {
   "cell_type": "code",
   "execution_count": 39,
   "id": "9a625bb9-e8c4-4976-9611-de3e57f7044d",
   "metadata": {},
   "outputs": [
    {
     "data": {
      "text/plain": [
       "('Brazil', 69.64803)"
      ]
     },
     "execution_count": 39,
     "metadata": {},
     "output_type": "execute_result"
    }
   ],
   "source": [
    "def task_ten_modified():\n",
    "    max_renewable_country = Result['% Renewable'].idxmax()\n",
    "    max_renewable_percentage = Result['% Renewable'].max()\n",
    "    return (max_renewable_country, max_renewable_percentage)\n",
    "\n",
    "task_ten_modified()"
   ]
  },
  {
   "cell_type": "code",
   "execution_count": 40,
   "id": "f6278005-7594-43cd-ad36-9bcff83484f1",
   "metadata": {},
   "outputs": [
    {
     "data": {
      "text/plain": [
       "('Japan', 127409395.97315437)"
      ]
     },
     "execution_count": 40,
     "metadata": {},
     "output_type": "execute_result"
    }
   ],
   "source": [
    "# Вправа 11\n",
    "def task_eleven():\n",
    "    Result['Population Estimate'] = Result['Energy Supply'] / Result['Energy Supply per Capita']\n",
    "    sorted = Result.sort_values(by='Population Estimate', ascending=False)\n",
    "    sixth_country = sorted.iloc[5]\n",
    "    return (sixth_country.name, sixth_country['Population Estimate'])\n",
    "\n",
    "task_eleven()"
   ]
  },
  {
   "cell_type": "code",
   "execution_count": 41,
   "id": "e776bbea-9b2e-4a81-a6ca-9dc2582faee2",
   "metadata": {},
   "outputs": [
    {
     "data": {
      "text/plain": [
       "0.7940010435442946"
      ]
     },
     "execution_count": 41,
     "metadata": {},
     "output_type": "execute_result"
    }
   ],
   "source": [
    "# Вправа 12\n",
    "def task_twelve():\n",
    "    Result['Citations per Capita'] = Result['Citable documents'] / Result['Population Estimate']\n",
    "    correlation = Result['Citations per Capita'].corr(Result['Energy Supply per Capita'])\n",
    "    return correlation\n",
    "\n",
    "task_twelve()"
   ]
  },
  {
   "cell_type": "code",
   "execution_count": 42,
   "id": "83b47332-c6a8-4cff-a11c-17006cb23cde",
   "metadata": {},
   "outputs": [
    {
     "data": {
      "text/plain": [
       "Country\n",
       "China                 1\n",
       "United States         0\n",
       "Japan                 0\n",
       "United Kingdom        0\n",
       "Russian Federation    1\n",
       "Canada                1\n",
       "Germany               1\n",
       "India                 0\n",
       "France                1\n",
       "South Korea           0\n",
       "Italy                 1\n",
       "Spain                 1\n",
       "Iran                  0\n",
       "Australia             0\n",
       "Brazil                1\n",
       "Name: High_Renewable, dtype: int32"
      ]
     },
     "execution_count": 42,
     "metadata": {},
     "output_type": "execute_result"
    }
   ],
   "source": [
    "def task_thirteen_modified():\n",
    "    median_renewable = Result['% Renewable'].median()\n",
    "    high_renewable = (Result['% Renewable'] >= median_renewable).astype(int)\n",
    "    sorted_result = Result.assign(High_Renewable=high_renewable).sort_values(by='Rank')\n",
    "    return sorted_result['High_Renewable']\n",
    "\n",
    "task_thirteen_modified()"
   ]
  },
  {
   "cell_type": "code",
   "execution_count": 43,
   "id": "e954cf2d-da0e-444f-9e9f-fb61797ff68f",
   "metadata": {},
   "outputs": [
    {
     "data": {
      "text/html": [
       "<div>\n",
       "<style scoped>\n",
       "    .dataframe tbody tr th:only-of-type {\n",
       "        vertical-align: middle;\n",
       "    }\n",
       "\n",
       "    .dataframe tbody tr th {\n",
       "        vertical-align: top;\n",
       "    }\n",
       "\n",
       "    .dataframe thead th {\n",
       "        text-align: right;\n",
       "    }\n",
       "</style>\n",
       "<table border=\"1\" class=\"dataframe\">\n",
       "  <thead>\n",
       "    <tr style=\"text-align: right;\">\n",
       "      <th></th>\n",
       "      <th>size</th>\n",
       "      <th>sum</th>\n",
       "      <th>mean</th>\n",
       "      <th>std</th>\n",
       "    </tr>\n",
       "    <tr>\n",
       "      <th>Continent</th>\n",
       "      <th></th>\n",
       "      <th></th>\n",
       "      <th></th>\n",
       "      <th></th>\n",
       "    </tr>\n",
       "  </thead>\n",
       "  <tbody>\n",
       "    <tr>\n",
       "      <th>Asia</th>\n",
       "      <td>5</td>\n",
       "      <td>2898666386.611</td>\n",
       "      <td>579733277.322</td>\n",
       "      <td>679097888.366</td>\n",
       "    </tr>\n",
       "    <tr>\n",
       "      <th>Australia</th>\n",
       "      <td>1</td>\n",
       "      <td>23316017.316</td>\n",
       "      <td>23316017.316</td>\n",
       "      <td>NaN</td>\n",
       "    </tr>\n",
       "    <tr>\n",
       "      <th>Europe</th>\n",
       "      <td>6</td>\n",
       "      <td>457929667.216</td>\n",
       "      <td>76321611.203</td>\n",
       "      <td>34647667.066</td>\n",
       "    </tr>\n",
       "    <tr>\n",
       "      <th>North America</th>\n",
       "      <td>2</td>\n",
       "      <td>352855249.480</td>\n",
       "      <td>176427624.740</td>\n",
       "      <td>199669644.857</td>\n",
       "    </tr>\n",
       "    <tr>\n",
       "      <th>South America</th>\n",
       "      <td>1</td>\n",
       "      <td>205915254.237</td>\n",
       "      <td>205915254.237</td>\n",
       "      <td>NaN</td>\n",
       "    </tr>\n",
       "  </tbody>\n",
       "</table>\n",
       "</div>"
      ],
      "text/plain": [
       "               size            sum          mean           std\n",
       "Continent                                                     \n",
       "Asia              5 2898666386.611 579733277.322 679097888.366\n",
       "Australia         1   23316017.316  23316017.316           NaN\n",
       "Europe            6  457929667.216  76321611.203  34647667.066\n",
       "North America     2  352855249.480 176427624.740 199669644.857\n",
       "South America     1  205915254.237 205915254.237           NaN"
      ]
     },
     "execution_count": 43,
     "metadata": {},
     "output_type": "execute_result"
    }
   ],
   "source": [
    "# Вправа 14\n",
    "def task_fourteen():\n",
    "    ContinentDict = {'China':'Asia', 'United States':'North America', 'Japan':'Asia', 'United Kingdom':'Europe',\n",
    "                     'Russian Federation':'Europe', 'Canada':'North America', 'Germany':'Europe', 'India':'Asia',\n",
    "                     'France':'Europe', 'South Korea':'Asia', 'Italy':'Europe', 'Spain':'Europe', 'Iran':'Asia',\n",
    "                     'Australia':'Australia', 'Brazil':'South America'}\n",
    "\n",
    "    Result['Continent'] = Result.index.map(ContinentDict)\n",
    "    grouped_df = Result.groupby('Continent')['Population Estimate'].agg(['size', 'sum', 'mean', 'std'])\n",
    "    grouped_df.index.name = 'Continent'\n",
    "    grouped_df.columns = ['size', 'sum', 'mean', 'std']\n",
    "    return grouped_df\n",
    "\n",
    "task_fourteen()"
   ]
  },
  {
   "cell_type": "code",
   "execution_count": 44,
   "id": "78130999-bea0-40d9-9375-0ec9792d891f",
   "metadata": {},
   "outputs": [
    {
     "data": {
      "image/png": "[encoded data removed]",
      "text/plain": [
       "<Figure size 1500x800 with 1 Axes>"
      ]
     },
     "metadata": {},
     "output_type": "display_data"
    }
   ],
   "source": [
    "import matplotlib.pyplot as plt\n",
    "import seaborn as sns\n",
    "\n",
    "sns.set()\n",
    "\n",
    "plt.figure(figsize=(15, 8))\n",
    "bubble_chart = sns.scatterplot(x='Rank', y='% Renewable', size='2015', hue='Continent', data=Result, sizes=(1000, 10000),\n",
    "                               alpha=0.8, palette=None)\n",
    "\n",
    "for index, row in Result.iterrows():\n",
    "    bubble_chart.annotate(index, xy=(row['Rank'], row['% Renewable']), xytext=(0, 0),\n",
    "                          textcoords='offset points', ha='center', va='center', size='medium', color='black')\n",
    "\n",
    "plt.title('Bubble Chart')\n",
    "plt.xlabel('Rank')\n",
    "plt.ylabel('% Renewable')\n",
    "\n",
    "bubble_chart.legend().set_visible(False)\n",
    "\n",
    "plt.show()"
   ]
  }
 ],
 "metadata": {
  "kernelspec": {
   "display_name": "Python 3 (ipykernel)",
   "language": "python",
   "name": "python3"
  },
  "language_info": {
   "codemirror_mode": {
    "name": "ipython",
    "version": 3
   },
   "file_extension": ".py",
   "mimetype": "text/x-python",
   "name": "python",
   "nbconvert_exporter": "python",
   "pygments_lexer": "ipython3",
   "version": "3.9.10"
  }
 },
 "nbformat": 4,
 "nbformat_minor": 5
}
